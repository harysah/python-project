{
 "cells": [
  {
   "cell_type": "code",
   "execution_count": null,
   "id": "a17378ac-a6b4-49c1-8709-9f0418bb3949",
   "metadata": {},
   "outputs": [],
   "source": [
    "python assignment "
   ]
  },
  {
   "cell_type": "markdown",
   "id": "998b5a93-c649-421a-9346-64f5673e2c32",
   "metadata": {},
   "source": [
    "1.What is a RESTful API "
   ]
  },
  {
   "cell_type": "markdown",
   "id": "66f12712-aff6-478f-8719-19c663ea1c63",
   "metadata": {},
   "source": [
    "A RESTful API (Representational State Transfer) is an architectural style for designing networked applications. It uses standard HTTP methods like GET, POST, PUT, and DELETE to perform operations on resources, typically represented in JSON format. RESTful APIs are stateless, meaning each request from a client contains all the information needed to process the request, allowing for scalable and efficient communication between systems."
   ]
  },
  {
   "cell_type": "code",
   "execution_count": null,
   "id": "6e3d6fff-9c23-4217-985e-4dfebb0af1f9",
   "metadata": {},
   "outputs": [],
   "source": [
    "2. Explain the concept of API specification"
   ]
  },
  {
   "cell_type": "markdown",
   "id": "20cb968d-fa29-4209-9a27-c28451de1b45",
   "metadata": {},
   "source": [
    "An API specification is a detailed description of how an API behaves and how it interacts with other APIs. It outlines the available endpoints, request and response formats, authentication methods, and error codes. Specifications serve as a blueprint for developers, ensuring consistency and understanding across different systems. Tools like the OpenAPI Specification (formerly Swagger) are commonly used to define and document APIs."
   ]
  },
  {
   "cell_type": "code",
   "execution_count": null,
   "id": "7b49ad62-cd9a-413a-bed0-6bbf0c10e2d7",
   "metadata": {},
   "outputs": [],
   "source": [
    "3.What is Flask, and why is it popular for building APIs"
   ]
  },
  {
   "cell_type": "markdown",
   "id": "1e7e0183-d059-425a-b270-feb99da80f5a",
   "metadata": {},
   "source": [
    "Flask is a lightweight and flexible web framework for Python that is widely used for building web applications and APIs. Its simplicity and minimalism allow developers to create robust APIs quickly. Flask provides essential tools and features, such as routing, request handling, and templating, without imposing a specific project structure, making it ideal for small to medium-sized applications."
   ]
  },
  {
   "cell_type": "code",
   "execution_count": null,
   "id": "1aa90d41-9248-48e2-87da-a6ee875bb35d",
   "metadata": {},
   "outputs": [],
   "source": [
    "4.What is routing in Flask"
   ]
  },
  {
   "cell_type": "markdown",
   "id": "98c29cf3-2522-4963-988b-19f5e30f6bd3",
   "metadata": {},
   "source": [
    "Routing in Flask refers to the process of mapping URLs to specific functions in your application. This is achieved using the @app.route() decorator, which tells Flask what URL should trigger a particular function."
   ]
  },
  {
   "cell_type": "code",
   "execution_count": null,
   "id": "be7a1d5f-ef26-459b-abf5-6a879f3f32f5",
   "metadata": {},
   "outputs": [],
   "source": [
    "5. How do you create a simple Flask application"
   ]
  },
  {
   "cell_type": "code",
   "execution_count": null,
   "id": "62a8f54d-4316-4b25-86df-64446c70908b",
   "metadata": {},
   "outputs": [],
   "source": [
    "To create a basic Flask application:\n",
    "\n",
    "Install Flask:\n",
    "pip install Flask\n",
    "\n",
    "Create a Python file (e.g., app.py):\n",
    "from flask import Flask\n",
    "app = Flask(__name__)\n",
    "@app.route('/')\n",
    "def home():\n",
    "    return 'Welcome to Flask!'    \n",
    "\n",
    "Run the application:\n",
    "flask run\n",
    "   \n",
    "    "
   ]
  },
  {
   "cell_type": "code",
   "execution_count": null,
   "id": "3407d9de-c12f-40c5-bf82-a773929534fe",
   "metadata": {},
   "outputs": [],
   "source": [
    "6.What are HTTP methods used in RESTful APIs"
   ]
  },
  {
   "cell_type": "code",
   "execution_count": null,
   "id": "b0958477-1c1c-4c27-b7e4-bddb1481cbd8",
   "metadata": {},
   "outputs": [],
   "source": [
    "RESTful APIs commonly use the following HTTP methods:\n",
    "\n",
    "GET: Retrieve data from the server.\n",
    "\n",
    "POST: Submit new data to the server.\n",
    "\n",
    "PUT: Update existing data.\n",
    "\n",
    "DELETE: Remove data.\n",
    "\n",
    "PATCH: Partially update existing data.\n",
    "\n",
    "Each method serves a specific purpose and aligns with CRUD (Create, Read, Update, Delete) operations.\n",
    "\n"
   ]
  },
  {
   "cell_type": "code",
   "execution_count": null,
   "id": "9cedbb36-dd93-44c6-a86d-142ee296c7b5",
   "metadata": {},
   "outputs": [],
   "source": [
    "7.What is the purpose of the @app.route() decorator in Flask"
   ]
  },
  {
   "cell_type": "markdown",
   "id": "bd4aaef8-f596-48b5-be9e-945bbb324794",
   "metadata": {},
   "source": [
    "The @app.route() decorator in Flask is used to bind a URL to a function. When a user accesses the specified URL, Flask invokes the associated function to handle the request. This mechanism allows developers to define how their application responds to different URLs."
   ]
  },
  {
   "cell_type": "code",
   "execution_count": null,
   "id": "57170ebc-5657-42e6-94a8-29ae9a13097b",
   "metadata": {},
   "outputs": [],
   "source": [
    "8.What is the difference between GET and POST HTTP methods"
   ]
  },
  {
   "cell_type": "code",
   "execution_count": null,
   "id": "87ad7f5d-27d8-4475-a04b-3aaabaacb057",
   "metadata": {},
   "outputs": [],
   "source": [
    "GET: Used to retrieve data. Parameters are sent in the URL, making them visible and limited in length. Suitable for non-sensitive data.\n",
    "\n",
    "POST: Used to submit data to the server. Parameters are sent in the request body, allowing for larger amounts of data and better security for sensitive information.\n",
    "\n"
   ]
  },
  {
   "cell_type": "code",
   "execution_count": null,
   "id": "d231ee9e-5466-497a-a945-864e76351103",
   "metadata": {},
   "outputs": [],
   "source": [
    "9. How do you handle errors in Flask APIs"
   ]
  },
  {
   "cell_type": "code",
   "execution_count": null,
   "id": "ea707bb1-7073-4e65-b4d6-5837633918b3",
   "metadata": {},
   "outputs": [],
   "source": [
    "Flask allows you to handle errors by defining error handlers using the @app.errorhandler() decorator. For example:\n",
    "\n",
    "@app.errorhandler(404)\n",
    "def not_found(error):\n",
    "    return 'This resource was not found.', 404\n",
    "This approach enables you to provide custom responses for different error codes, improving the user experience."
   ]
  },
  {
   "cell_type": "code",
   "execution_count": null,
   "id": "c9f57048-7d99-4cad-972f-4afeeea8f85a",
   "metadata": {},
   "outputs": [],
   "source": [
    "10.How do you connect Flask to a SQL database"
   ]
  },
  {
   "cell_type": "code",
   "execution_count": null,
   "id": "ad786d41-394e-45d1-8843-26d2492c37c0",
   "metadata": {},
   "outputs": [],
   "source": [
    "Install Flask-SQLAlchemy:\n",
    "pip install Flask-SQLAlchemy\n",
    "\n",
    "Configure the database in your Flask application:\n",
    "\n",
    "from flask import Flask\n",
    "from flask_sqlalchemy import SQLAlchemy\n",
    "\n",
    "app = Flask(__name__)\n",
    "app.config['SQLALCHEMY_DATABASE_URI'] = 'sqlite:///example.db'\n",
    "db = SQLAlchemy(app)\n",
    "\n",
    "Define your models and interact with the database using SQLAlchemy's ORM capabilities.\n",
    "\n",
    "\n",
    "\n"
   ]
  },
  {
   "cell_type": "markdown",
   "id": "64983735-b9fb-46d2-b0af-2b9093dda7a3",
   "metadata": {},
   "source": [
    "11.What is the role of Flask-SQLAlchemy\n",
    "Flask-SQLAlchemy is an extension that integrates SQLAlchemy with Flask. It simplifies database interactions by providing a high-level ORM (Object-Relational Mapping) interface, allowing developers to work with databases using Python classes and objects instead of writing raw SQL queries.\n",
    "\n",
    "\n"
   ]
  },
  {
   "cell_type": "code",
   "execution_count": null,
   "id": "f8b156bc-643f-4e45-9443-1ec3e7dceaec",
   "metadata": {},
   "outputs": [],
   "source": [
    "12. What are Flask blueprints, and how are they useful"
   ]
  },
  {
   "cell_type": "markdown",
   "id": "9647af03-4816-45d3-8010-a94d198ca24f",
   "metadata": {},
   "source": [
    "Flask Blueprints allow you to organize your application into modular components. Each blueprint can represent a distinct part of your application (e.g., authentication, blog, admin panel) with its own routes, templates, and static files. This modularity enhances code organization and reusability, especially in larger applications."
   ]
  },
  {
   "cell_type": "code",
   "execution_count": null,
   "id": "c3b934e3-3d0d-4898-a27f-f07abeee6c26",
   "metadata": {},
   "outputs": [],
   "source": [
    "13.What is the purpose of Flask's request object"
   ]
  },
  {
   "cell_type": "markdown",
   "id": "a4c2f95e-7142-4434-8baa-bfa5421d6101",
   "metadata": {},
   "source": [
    "Flask's request object provides access to incoming request data, such as form inputs, query parameters, headers, and JSON payloads. It allows you to retrieve and process data sent by the client. For example:\n",
    "\n",
    "from flask import request\n",
    "\n",
    "@app.route('/submit', methods=['POST'])\n",
    "def submit():\n",
    "    data = request.form['data']\n",
    "    return f'Data received: {data}'"
   ]
  },
  {
   "cell_type": "code",
   "execution_count": null,
   "id": "3e07667f-84f6-4e36-93b3-a0dc2da22009",
   "metadata": {},
   "outputs": [],
   "source": [
    "14. How do you create a RESTful API endpoint using Flask"
   ]
  },
  {
   "cell_type": "code",
   "execution_count": null,
   "id": "e06a1a0d-8f65-4181-8c69-182b77096c2a",
   "metadata": {},
   "outputs": [],
   "source": [
    "To create a RESTful API endpoint:\n",
    "\n",
    "from flask import Flask, jsonify, request\n",
    "\n",
    "app = Flask(__name__)\n",
    "\n",
    "@app.route('/api/data', methods=['GET'])\n",
    "def get_data():\n",
    "    sample_data = {'id': 1, 'name': 'Sample'}\n",
    "    return jsonify(sample_data)\n",
    "This endpoint responds to GET requests at /api/data by returning JSON data."
   ]
  },
  {
   "cell_type": "code",
   "execution_count": null,
   "id": "f83cabd3-f23c-424d-b3a9-ff89bf8b0850",
   "metadata": {},
   "outputs": [],
   "source": [
    "15.What is the purpose of Flask's jsonify() function"
   ]
  },
  {
   "cell_type": "markdown",
   "id": "8e11c57c-5593-4f48-a320-bf9990e6c66c",
   "metadata": {},
   "source": [
    "The jsonify() function in Flask converts Python dictionaries or lists into JSON-formatted responses. It also sets the appropriate Content-Type header (application/json), ensuring that clients interpret the response correctly."
   ]
  },
  {
   "cell_type": "code",
   "execution_count": null,
   "id": "25ad35ae-8aec-4a6c-bdf9-275c1aecd5b2",
   "metadata": {},
   "outputs": [],
   "source": [
    "16. Explain Flask’s url_for() function"
   ]
  },
  {
   "cell_type": "markdown",
   "id": "e7b7ab50-74ab-4077-bca2-961475d0cc8b",
   "metadata": {},
   "source": [
    "The url_for() function generates URLs for your application based on the name of a view function. This is useful for creating dynamic links and ensures that URLs are updated automatically if the route definitions change"
   ]
  },
  {
   "cell_type": "code",
   "execution_count": null,
   "id": "f45c394f-089c-45b6-87a3-b1cc07abd03e",
   "metadata": {},
   "outputs": [],
   "source": [
    "17. How does Flask handle static files (CSS, JavaScript, etc.)"
   ]
  },
  {
   "cell_type": "markdown",
   "id": "da5ce6b7-358a-4620-8f32-9a2b27ddf68b",
   "metadata": {},
   "source": [
    "Flask automatically serves static files from the static folder in your project directory. You can reference these files in your templates using the url_for() function:\n",
    "\n",
    "<link rel=\"stylesheet\" href=\"{{ url_for('static', filename='style.css') }}\">\n",
    "This setup allows you to include CSS, JavaScript, and image files in your application."
   ]
  },
  {
   "cell_type": "code",
   "execution_count": null,
   "id": "0c40fc38-8e55-4b51-a9b1-63e44acc7140",
   "metadata": {},
   "outputs": [],
   "source": [
    "18. What are HTTP status codes, and why are they important in a Flask API"
   ]
  },
  {
   "cell_type": "code",
   "execution_count": null,
   "id": "ae316217-6479-44a9-91b7-51c21653247d",
   "metadata": {},
   "outputs": [],
   "source": [
    "HTTP status codes indicate the result of a client's request:\n",
    "\n",
    "200 OK: The request was successful.\n",
    "\n",
    "201 Created: A new resource was successfully created.\n",
    "\n",
    "400 Bad Request: The request was malformed or invalid.\n",
    "\n",
    "401 Unauthorized: Authentication is required.\n",
    "\n",
    "404 Not Found: The requested resource was not found.\n",
    "\n",
    "500 Internal Server Error: The server encountered an error.\n",
    "\n",
    "Using appropriate status codes in your Flask API responses helps clients understand the outcome of their requests and handle them accordingly."
   ]
  },
  {
   "cell_type": "code",
   "execution_count": null,
   "id": "01361593-9d99-4c2b-8f95-c7b4f0ed7faf",
   "metadata": {},
   "outputs": [],
   "source": [
    "19. What is an API specification, and how does it help in building a Flask API\n"
   ]
  },
  {
   "cell_type": "code",
   "execution_count": null,
   "id": "39e98612-3939-4c49-a615-45ab94d74d4e",
   "metadata": {},
   "outputs": [],
   "source": [
    "An API specification is a formal, structured description of how an API behaves and how clients should interact with it."
   ]
  },
  {
   "cell_type": "code",
   "execution_count": null,
   "id": "8ced107b-a9ae-4eec-9482-3491116666cf",
   "metadata": {},
   "outputs": [],
   "source": [
    "20. How do you handle POST requests in Flask"
   ]
  },
  {
   "cell_type": "code",
   "execution_count": null,
   "id": "5d22b306-eba7-48c7-8f21-1fe08d482493",
   "metadata": {},
   "outputs": [],
   "source": [
    "To handle POST requests, define a route that accepts the POST method and use request to access incoming data:\n",
    "\n",
    "from flask import Flask, request\n",
    "\n",
    "app = Flask(__name__)\n",
    "\n",
    "@app.route('/submit', methods=['POST'])\n",
    "def submit():\n",
    "    data = request.get_json()  # For JSON payloads\n",
    "    return {'received': data}, 201\n",
    "You can also access form data with request.form or query parameters with request.args."
   ]
  },
  {
   "cell_type": "code",
   "execution_count": null,
   "id": "883c0dbf-de45-48b6-896c-347b8d7b33ad",
   "metadata": {},
   "outputs": [],
   "source": [
    "21. How would you secure a Flask API"
   ]
  },
  {
   "cell_type": "code",
   "execution_count": null,
   "id": "86019d4d-9446-4482-9a8b-9aeb97848d62",
   "metadata": {},
   "outputs": [],
   "source": [
    "Authentication: Implement token-based authentication (e.g., JWT) to ensure that only authorized users can access your API.\n",
    "\n",
    "Input Validation: Validate and sanitize all incoming data to prevent injection attacks.\n",
    "\n",
    "HTTPS: Enforce HTTPS to encrypt data in transit.\n",
    "\n",
    "CORS: Configure Cross-Origin Resource Sharing (CORS) to control which domains can access your API.\n",
    "\n",
    "Rate Limiting: Implement rate limiting to prevent abuse and denial-of-service attacks.\n",
    "\n",
    "For more detailed best practices, refer to the Escape.tech blog on securing Flask applications."
   ]
  },
  {
   "cell_type": "code",
   "execution_count": null,
   "id": "8033c7b1-42c6-4dc8-b2ae-0e0b04f98e51",
   "metadata": {},
   "outputs": [],
   "source": [
    "22. What is the significance of the Flask-RESTful extension"
   ]
  },
  {
   "cell_type": "code",
   "execution_count": null,
   "id": "daa3f0ea-2ef5-47eb-af74-e2c56791a897",
   "metadata": {},
   "outputs": [],
   "source": [
    "Resource Classes: Organizing endpoints as classes with methods corresponding to HTTP verbs (GET, POST, etc.).\n",
    "\n",
    "Request Parsing: Providing tools to parse and validate incoming request data.\n",
    "\n",
    "Automatic Response Formatting: Automatically formatting responses (e.g., to JSON).\n",
    "\n",
    "This extension promotes cleaner and more maintainable code when developing APIs."
   ]
  },
  {
   "cell_type": "code",
   "execution_count": null,
   "id": "be25b4c1-c64f-40ca-8c64-ddd77a89583d",
   "metadata": {},
   "outputs": [],
   "source": [
    "23.What is the role of Flask’s session object?"
   ]
  },
  {
   "cell_type": "markdown",
   "id": "9277c036-dd4c-4b1f-b840-28a38037c1a9",
   "metadata": {},
   "source": [
    "In Flask, the session object allows you to store user-specific data across multiple HTTP requests, making it possible to maintain state between different interactions with a web application. It's like a temporary storage area that persists data throughout a user's session. "
   ]
  },
  {
   "cell_type": "code",
   "execution_count": null,
   "id": "e13f6972-6b33-4aa6-8241-b1800ec037f8",
   "metadata": {},
   "outputs": [],
   "source": [
    "practical questions"
   ]
  },
  {
   "cell_type": "code",
   "execution_count": null,
   "id": "f9926d7b-b680-4fd6-b69b-864145dec60d",
   "metadata": {},
   "outputs": [],
   "source": [
    "1. How do you create a basic Flask application"
   ]
  },
  {
   "cell_type": "code",
   "execution_count": 1,
   "id": "930fda4c-6304-4643-b573-6931e4e23a0d",
   "metadata": {},
   "outputs": [
    {
     "name": "stdout",
     "output_type": "stream",
     "text": [
      " * Serving Flask app '__main__'\n",
      " * Debug mode: on\n"
     ]
    },
    {
     "name": "stderr",
     "output_type": "stream",
     "text": [
      "WARNING: This is a development server. Do not use it in a production deployment. Use a production WSGI server instead.\n",
      " * Running on http://127.0.0.1:5000\n",
      "Press CTRL+C to quit\n",
      " * Restarting with watchdog (windowsapi)\n"
     ]
    },
    {
     "ename": "SystemExit",
     "evalue": "1",
     "output_type": "error",
     "traceback": [
      "An exception has occurred, use %tb to see the full traceback.\n",
      "\u001b[1;31mSystemExit\u001b[0m\u001b[1;31m:\u001b[0m 1\n"
     ]
    },
    {
     "name": "stderr",
     "output_type": "stream",
     "text": [
      "C:\\ProgramData\\anaconda3\\Lib\\site-packages\\IPython\\core\\interactiveshell.py:3585: UserWarning: To exit: use 'exit', 'quit', or Ctrl-D.\n",
      "  warn(\"To exit: use 'exit', 'quit', or Ctrl-D.\", stacklevel=1)\n"
     ]
    }
   ],
   "source": [
    "from flask import Flask\n",
    "\n",
    "app = Flask(__name__)\n",
    "\n",
    "@app.route('/')\n",
    "def home():\n",
    "    return \"Hello, Flask!\"\n",
    "\n",
    "if __name__ == '__main__':\n",
    "    app.run(debug=True)"
   ]
  },
  {
   "cell_type": "code",
   "execution_count": null,
   "id": "c9020c94-2913-4624-a36b-34b723ce3cdd",
   "metadata": {},
   "outputs": [],
   "source": [
    "2. How do you serve static files like images or CSS in Flask"
   ]
  },
  {
   "cell_type": "code",
   "execution_count": 2,
   "id": "3583ff0d-4a17-4eda-aa66-53faf0eeb0d7",
   "metadata": {},
   "outputs": [
    {
     "ename": "SyntaxError",
     "evalue": "invalid syntax (4084374691.py, line 1)",
     "output_type": "error",
     "traceback": [
      "\u001b[1;36m  Cell \u001b[1;32mIn[2], line 1\u001b[1;36m\u001b[0m\n\u001b[1;33m    <link rel=\"stylesheet\" href=\"{{ url_for('static', filename='style.css') }}\">\u001b[0m\n\u001b[1;37m    ^\u001b[0m\n\u001b[1;31mSyntaxError\u001b[0m\u001b[1;31m:\u001b[0m invalid syntax\n"
     ]
    }
   ],
   "source": [
    "<link rel=\"stylesheet\" href=\"{{ url_for('static', filename='style.css') }}\">\n",
    "<img src=\"{{ url_for('static', filename='logo.png') }}\">"
   ]
  },
  {
   "cell_type": "code",
   "execution_count": null,
   "id": "af374aba-99a6-48a0-904b-a310f6123d4d",
   "metadata": {},
   "outputs": [],
   "source": [
    "3. How do you define different routes with different HTTP methods in Flask\n"
   ]
  },
  {
   "cell_type": "code",
   "execution_count": null,
   "id": "92e1ecae-8451-441a-a6c1-bfce391c0212",
   "metadata": {},
   "outputs": [],
   "source": [
    "Defining Routes with Specific HTTP Methods"
   ]
  },
  {
   "cell_type": "code",
   "execution_count": 4,
   "id": "4da2e4e3-7be9-4af2-8039-ce5405b06985",
   "metadata": {},
   "outputs": [],
   "source": [
    "from flask import Flask, request\n",
    "\n",
    "app = Flask(__name__)\n",
    "\n",
    "@app.route('/submit', methods=['POST'])\n",
    "def submit():\n",
    "    data = request.form['data']\n",
    "    return f\"Data received: {data}\"\n",
    "\n",
    "@app.route('/update', methods=['PUT'])\n",
    "def update():\n",
    "    # Logic to update a resource\n",
    "    return \"Resource updated\"\n",
    "\n",
    "@app.route('/delete', methods=['DELETE'])\n",
    "def delete():\n",
    "    # Logic to delete a resource\n",
    "    return \"Resource deleted\""
   ]
  },
  {
   "cell_type": "code",
   "execution_count": null,
   "id": "b6df2cc1-da43-4402-97d9-395e0e9ac781",
   "metadata": {},
   "outputs": [],
   "source": [
    "4. How do you render HTML templates in Flask"
   ]
  },
  {
   "cell_type": "code",
   "execution_count": null,
   "id": "9d07ed99-48b0-472b-8e9f-dfa340c15c9d",
   "metadata": {},
   "outputs": [],
   "source": [
    "Set Up Your Flask Application"
   ]
  },
  {
   "cell_type": "code",
   "execution_count": null,
   "id": "a713fe0d-1d0d-4f4d-a8a5-363d820351c0",
   "metadata": {},
   "outputs": [],
   "source": [
    "pip install flask"
   ]
  },
  {
   "cell_type": "code",
   "execution_count": null,
   "id": "d59196f8-1c15-47e9-9930-944d0b0b6c78",
   "metadata": {},
   "outputs": [],
   "source": [
    "Then, create a basic Flask application in a file named app.py\n",
    "from flask import Flask, render_template\n",
    "\n",
    "app = Flask(__name__)\n",
    "\n",
    "@app.route('/')\n",
    "def home():\n",
    "    return render_template('index.html')\n",
    "\n",
    "if __name__ == '__main__':\n",
    "    app.run(debug=True)\n"
   ]
  },
  {
   "cell_type": "code",
   "execution_count": null,
   "id": "221e3367-9a3a-4bb6-aaae-ee86d1880550",
   "metadata": {},
   "outputs": [],
   "source": [
    "Create a templates Directory"
   ]
  },
  {
   "cell_type": "code",
   "execution_count": null,
   "id": "001166db-e121-45f8-bccd-d498f4f0e875",
   "metadata": {},
   "outputs": [],
   "source": [
    "Add an HTML Template\n",
    "Inside the templates folder, create an index.html\n",
    "<!DOCTYPE html>\n",
    "<html>\n",
    "<head>\n",
    "    <title>Flask App</title>\n",
    "</head>\n",
    "<body>\n",
    "    <h1>Welcome to Flask</h1>\n",
    "    <p>This is a basic template rendering example.</p>\n",
    "</body>\n",
    "</html>\n",
    "\n"
   ]
  },
  {
   "cell_type": "code",
   "execution_count": null,
   "id": "442e21bb-3acd-4e42-99a7-5f159f7c308d",
   "metadata": {},
   "outputs": [],
   "source": [
    "5. How can you generate URLs for routes in Flask using url_for"
   ]
  },
  {
   "cell_type": "code",
   "execution_count": null,
   "id": "67bd0cf9-9e2b-483a-90d5-33583a275247",
   "metadata": {},
   "outputs": [],
   "source": [
    "Use url_for() to dynamically build URLs based on route function names:\n",
    "\n",
    "from flask import url_for\n",
    "\n",
    "url_for('index')  # Generates '/'\n",
    "url_for('user_profile', username='john')  # Generates '/user/john'\n",
    "\n",
    "This approach ensures that URLs update automatically if route definitions change."
   ]
  },
  {
   "cell_type": "code",
   "execution_count": null,
   "id": "27e9df79-46ba-4380-b5c5-9f04d0cf4591",
   "metadata": {},
   "outputs": [],
   "source": [
    "6. How do you handle forms in Flask"
   ]
  },
  {
   "cell_type": "code",
   "execution_count": null,
   "id": "2879cadc-f81a-40a8-8fea-72dce6c0bb24",
   "metadata": {},
   "outputs": [],
   "source": [
    "from flask import request\n",
    "\n",
    "@app.route('/submit', methods=['GET', 'POST'])\n",
    "def submit():\n",
    "    if request.method == 'POST':\n",
    "        name = request.form['name']\n",
    "        # Process the form data"
   ]
  },
  {
   "cell_type": "code",
   "execution_count": null,
   "id": "cecee9fe-1f1d-4722-ad83-02eb2b5cbf26",
   "metadata": {},
   "outputs": [],
   "source": [
    "7.How can you validate form data in Flask"
   ]
  },
  {
   "cell_type": "code",
   "execution_count": null,
   "id": "d85325c2-6b77-4166-a6ac-b59b1c2b79a0",
   "metadata": {},
   "outputs": [],
   "source": [
    "from flask_wtf import FlaskForm\n",
    "from wtforms import StringField, SubmitField\n",
    "from wtforms.validators import DataRequired\n",
    "\n",
    "class MyForm(FlaskForm):\n",
    "    name = StringField('Name', validators=[DataRequired()])\n",
    "    submit = SubmitField('Submit')"
   ]
  },
  {
   "cell_type": "code",
   "execution_count": null,
   "id": "f216d87b-3289-4574-be3c-42fea6c7674b",
   "metadata": {},
   "outputs": [],
   "source": [
    "form = MyForm()\n",
    "if form.validate_on_submit():\n",
    "    # Process validated data\n",
    "Flask-WTF integrates WTForms for robust form handling and validation."
   ]
  },
  {
   "cell_type": "code",
   "execution_count": null,
   "id": "0735f501-5a97-4195-b071-31a6bdfacde8",
   "metadata": {},
   "outputs": [],
   "source": [
    "8. How do you manage sessions in Flask"
   ]
  },
  {
   "cell_type": "code",
   "execution_count": null,
   "id": "bccf580d-9269-4d94-bf88-65d08024502b",
   "metadata": {},
   "outputs": [],
   "source": [
    "from flask import session\n",
    "\n",
    "# Setting session data\n",
    "session['username'] = 'john'\n",
    "\n",
    "# Retrieving session data\n",
    "user = session.get('username')\n",
    "\n",
    "# Removing session data\n",
    "session.pop('username', None)\n",
    "For server-side sessions, consider using the Flask-Session extension.\n",
    "\n"
   ]
  },
  {
   "cell_type": "code",
   "execution_count": null,
   "id": "51381518-1a8f-4443-a051-ab06ee4c73c6",
   "metadata": {},
   "outputs": [],
   "source": [
    "9.How do you redirect to a different route in Flask"
   ]
  },
  {
   "cell_type": "code",
   "execution_count": null,
   "id": "8a351b3f-ee2e-42e5-af52-976c603c3536",
   "metadata": {},
   "outputs": [],
   "source": [
    "Use redirect() in combination with url_for\n",
    "from flask import redirect, url_for\n",
    "\n",
    "@app.route('/login')\n",
    "def login():\n",
    "    return redirect(url_for('dashboard'))"
   ]
  },
  {
   "cell_type": "code",
   "execution_count": null,
   "id": "8c3cf603-d5c0-4dee-8f95-9599685e2ac1",
   "metadata": {},
   "outputs": [],
   "source": [
    "10. How do you handle errors in Flask (e.g., 404)"
   ]
  },
  {
   "cell_type": "code",
   "execution_count": null,
   "id": "8faf19d2-5502-4f7a-a7a0-6804c62774ec",
   "metadata": {},
   "outputs": [],
   "source": [
    "from flask import Flask, render_template\n",
    "\n",
    "app = Flask(__name__)\n",
    "\n",
    "@app.errorhandler(404)\n",
    "def page_not_found(e):\n",
    "    return render_template('404.html'), 404"
   ]
  },
  {
   "cell_type": "code",
   "execution_count": null,
   "id": "d4596823-a599-4919-b2e2-695fc84a6ec4",
   "metadata": {},
   "outputs": [],
   "source": [
    "11. How do you structure a Flask app using Blueprints"
   ]
  },
  {
   "cell_type": "code",
   "execution_count": null,
   "id": "82268d67-98f2-4552-95ce-e97251de1e0b",
   "metadata": {},
   "outputs": [],
   "source": [
    "# myapp/blog/routes.py\n",
    "from flask import Blueprint\n",
    "\n",
    "blog = Blueprint('blog', __name__)\n",
    "\n",
    "@blog.route('/posts')\n",
    "def posts():\n",
    "    return \"List of blog posts\"\n",
    "# myapp/__init__.py\n",
    "from flask import Flask\n",
    "from myapp.blog.routes import blog\n",
    "\n",
    "def create_app():\n",
    "    app = Flask(__name__)\n",
    "    app.register_blueprint(blog, url_prefix='/blog')\n",
    "    return app    "
   ]
  },
  {
   "cell_type": "code",
   "execution_count": null,
   "id": "ba05a9c3-11d4-4bfe-9f8c-4dff2d1b3f32",
   "metadata": {},
   "outputs": [],
   "source": [
    "12. How do you define a custom Jinja filter in Flask"
   ]
  },
  {
   "cell_type": "code",
   "execution_count": null,
   "id": "6bd82ab2-a2de-4d42-85a0-99698abe4f30",
   "metadata": {},
   "outputs": [],
   "source": [
    "Custom Jinja filters can be registered using the @app.template_filter() decorator:"
   ]
  },
  {
   "cell_type": "code",
   "execution_count": null,
   "id": "004a424d-f195-47d0-ad72-3ff626fea133",
   "metadata": {},
   "outputs": [],
   "source": [
    "@app.template_filter('reverse')\n",
    "def reverse_filter(s):\n",
    "    return s[::-1]\n",
    "\n",
    "Alternatively, you can add filters directly:\n",
    "def reverse_filter(s):\n",
    "    return s[::-1]\n",
    "\n",
    "app.jinja_env.filters['reverse'] = reverse_filter\n",
    "\n",
    "These filters can then be used in templates like {{ 'hello' | reverse }}"
   ]
  },
  {
   "cell_type": "code",
   "execution_count": null,
   "id": "684ce357-7d2a-4044-b227-9af66d4710c2",
   "metadata": {},
   "outputs": [],
   "source": [
    "13.How can you redirect with query parameters in Flask"
   ]
  },
  {
   "cell_type": "code",
   "execution_count": null,
   "id": "7f75fc67-42e2-4714-b653-54ab022a9b07",
   "metadata": {},
   "outputs": [],
   "source": [
    "To redirect with query parameters, use the url_for function with keyword arguments"
   ]
  },
  {
   "cell_type": "code",
   "execution_count": null,
   "id": "3b808ce3-3d58-4fe6-b2b0-628adbead8f9",
   "metadata": {},
   "outputs": [],
   "source": [
    "from flask import redirect, url_for\n",
    "\n",
    "@app.route('/start')\n",
    "def start():\n",
    "    return redirect(url_for('destination', key='value'))"
   ]
  },
  {
   "cell_type": "code",
   "execution_count": null,
   "id": "7e56adbe-f80a-4bfd-8603-5502ed8c3aa6",
   "metadata": {},
   "outputs": [],
   "source": [
    "14.How do you return JSON responses in Flask"
   ]
  },
  {
   "cell_type": "code",
   "execution_count": null,
   "id": "69fb7cc8-7537-4df9-9327-5be6ff162522",
   "metadata": {},
   "outputs": [],
   "source": [
    "Flask allows you to return JSON responses in multiple ways:\n",
    "\n",
    "Using jsonify:"
   ]
  },
  {
   "cell_type": "code",
   "execution_count": null,
   "id": "df83e3b0-2998-49f4-8df9-6ffb95033287",
   "metadata": {},
   "outputs": [],
   "source": [
    "from flask import jsonify\n",
    "\n",
    "@app.route('/api/data')\n",
    "def get_data():\n",
    "    return jsonify({'name': 'Alice', 'age': 30})"
   ]
  },
  {
   "cell_type": "code",
   "execution_count": null,
   "id": "9412fac1-3efa-4e12-bd65-a0e098a02df4",
   "metadata": {},
   "outputs": [],
   "source": []
  },
  {
   "cell_type": "code",
   "execution_count": null,
   "id": "4879d514-a5c7-4fb6-887f-854750c3e05b",
   "metadata": {},
   "outputs": [],
   "source": []
  }
 ],
 "metadata": {
  "kernelspec": {
   "display_name": "Python 3 (ipykernel)",
   "language": "python",
   "name": "python3"
  },
  "language_info": {
   "codemirror_mode": {
    "name": "ipython",
    "version": 3
   },
   "file_extension": ".py",
   "mimetype": "text/x-python",
   "name": "python",
   "nbconvert_exporter": "python",
   "pygments_lexer": "ipython3",
   "version": "3.12.7"
  }
 },
 "nbformat": 4,
 "nbformat_minor": 5
}
